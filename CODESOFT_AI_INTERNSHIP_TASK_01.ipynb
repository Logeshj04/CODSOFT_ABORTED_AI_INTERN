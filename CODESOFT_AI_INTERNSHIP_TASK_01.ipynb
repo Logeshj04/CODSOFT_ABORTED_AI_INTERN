{
  "nbformat": 4,
  "nbformat_minor": 0,
  "metadata": {
    "colab": {
      "provenance": [],
      "authorship_tag": "ABX9TyM3J1Gq2c3pXAWNEurdSosN",
      "include_colab_link": true
    },
    "kernelspec": {
      "name": "python3",
      "display_name": "Python 3"
    },
    "language_info": {
      "name": "python"
    }
  },
  "cells": [
    {
      "cell_type": "markdown",
      "metadata": {
        "id": "view-in-github",
        "colab_type": "text"
      },
      "source": [
        "<a href=\"https://colab.research.google.com/github/Logeshj04/CODSOFT/blob/main/CODESOFT_AI_INTERNSHIP_TASK_01.ipynb\" target=\"_parent\"><img src=\"https://colab.research.google.com/assets/colab-badge.svg\" alt=\"Open In Colab\"/></a>"
      ]
    },
    {
      "cell_type": "markdown",
      "source": [
        "# **TASK 01**\n",
        "### Build a simple chatbot that responds to user inputs based on\n",
        "### predefined rules. Use if-else statements or pattern matching\n",
        "### techniques to identify user queries and provide appropriate\n",
        "### responses. This will give you a basic understanding of natural\n",
        "### language processing and conversation flow"
      ],
      "metadata": {
        "id": "x7UhzxsT8SZf"
      }
    },
    {
      "cell_type": "code",
      "source": [
        "pip install nltk"
      ],
      "metadata": {
        "colab": {
          "base_uri": "https://localhost:8080/"
        },
        "id": "02p1W25589DC",
        "outputId": "52b6e322-b084-4e45-c89c-879337a25aba"
      },
      "execution_count": null,
      "outputs": [
        {
          "output_type": "stream",
          "name": "stdout",
          "text": [
            "Requirement already satisfied: nltk in /usr/local/lib/python3.10/dist-packages (3.8.1)\n",
            "Requirement already satisfied: click in /usr/local/lib/python3.10/dist-packages (from nltk) (8.1.7)\n",
            "Requirement already satisfied: joblib in /usr/local/lib/python3.10/dist-packages (from nltk) (1.4.2)\n",
            "Requirement already satisfied: regex>=2021.8.3 in /usr/local/lib/python3.10/dist-packages (from nltk) (2024.5.15)\n",
            "Requirement already satisfied: tqdm in /usr/local/lib/python3.10/dist-packages (from nltk) (4.66.4)\n"
          ]
        }
      ]
    },
    {
      "cell_type": "code",
      "execution_count": 1,
      "metadata": {
        "colab": {
          "base_uri": "https://localhost:8080/"
        },
        "id": "3gG0wLly8BPJ",
        "outputId": "6bcb70ee-16cd-4198-8dda-798ff0603d43"
      },
      "outputs": [
        {
          "output_type": "stream",
          "name": "stderr",
          "text": [
            "[nltk_data] Downloading package punkt to /root/nltk_data...\n",
            "[nltk_data]   Unzipping tokenizers/punkt.zip.\n",
            "[nltk_data] Downloading package stopwords to /root/nltk_data...\n",
            "[nltk_data]   Unzipping corpora/stopwords.zip.\n"
          ]
        },
        {
          "output_type": "stream",
          "name": "stdout",
          "text": [
            "Welcome! I'm an advanced chatbot. You can start chatting or type 'exit' to end the conversation.\n",
            "You: hello\n",
            "Chatbot: Hello there!\n",
            "You: hi\n",
            "Chatbot: Hi, how can I help you?\n",
            "You: how are you\n",
            "Chatbot: I'm sorry, I didn't quite understand that.\n",
            "You: your name\n",
            "Chatbot: I'm sorry, I didn't quite understand that.\n",
            "You: hi\n",
            "Chatbot: Hi, how can I help you?\n",
            "You: who are you\n",
            "Chatbot: I'm sorry, I didn't quite understand that.\n",
            "You: wheather\n",
            "Chatbot: I'm sorry, I didn't quite understand that.\n",
            "You: joke\n",
            "Chatbot: Sure, here's a joke: Why don't scientists trust atoms? Because they make up everything!\n",
            "You: music\n",
            "Chatbot: I love music! What's your favorite genre?\n",
            "You: movie\n",
            "Chatbot: I enjoy movies! Do you have any favorite genres or recommendations?\n",
            "You: emotion\n",
            "Chatbot: As an AI, I don't have emotions, but I can understand yours!\n",
            "You: age\n",
            "Chatbot: I am ageless, but my knowledge is constantly updated.\n",
            "You: help\n",
            "Chatbot: How can I assist you today?\n",
            "You: exit\n",
            "Chatbot: Goodbye!\n"
          ]
        }
      ],
      "source": [
        "import nltk\n",
        "from nltk.tokenize import word_tokenize\n",
        "from nltk.corpus import stopwords\n",
        "\n",
        "nltk.download('punkt')\n",
        "nltk.download('stopwords')\n",
        "\n",
        "# Define responses based on patterns\n",
        "responses = {\n",
        "    'hello': 'Hello there!',\n",
        "    'hi': 'Hi, how can I help you?',\n",
        "    'how are you': 'I am functioning optimally, thank you!',\n",
        "    'your name': \"I'm a sophisticated AI chatbot.\",\n",
        "    'help': 'How can I assist you today?',\n",
        "    'goodbye': 'Goodbye! Have a great day.',\n",
        "    'thanks': 'You\\'re welcome!',\n",
        "    'age': 'I am ageless, but my knowledge is constantly updated.',\n",
        "    'who are you': 'I am an AI chatbot designed to assist you with various tasks.',\n",
        "    'weather': 'I can check the weather for you. Where are you located?',\n",
        "    'joke': 'Sure, here\\'s a joke: Why don\\'t scientists trust atoms? Because they make up everything!',\n",
        "    'music': 'I love music! What\\'s your favorite genre?',\n",
        "    'movie': 'I enjoy movies! Do you have any favorite genres or recommendations?',\n",
        "    'emotion': 'As an AI, I don\\'t have emotions, but I can understand yours!',\n",
        "    'time': 'The current time is [current time].',\n",
        "    'date': 'Today\\'s date is [current date].',\n",
        "    'default': \"I'm sorry, I didn't quite understand that.\"\n",
        "}\n",
        "\n",
        "# Function to process user input and return a response\n",
        "def respond(input_text):\n",
        "    # Tokenize user input\n",
        "    tokens = word_tokenize(input_text.lower())\n",
        "\n",
        "    # Remove stopwords\n",
        "    stop_words = set(stopwords.words('english'))\n",
        "    filtered_tokens = [word for word in tokens if word.isalnum() and word not in stop_words]\n",
        "\n",
        "    # Check for known patterns and respond accordingly\n",
        "    for token in filtered_tokens:\n",
        "        if token in responses:\n",
        "            return responses[token]\n",
        "\n",
        "    # Default response if no pattern match\n",
        "\n",
        "\n",
        "    return responses['default']\n",
        "\n",
        "# Main loop to simulate conversation\n",
        "def chat():\n",
        "    print(\"Welcome! I'm an advanced chatbot. You can start chatting or type 'exit' to end the conversation.\")\n",
        "\n",
        "    while True:\n",
        "        user_input = input(\"You: \")\n",
        "\n",
        "        if user_input.lower() == 'exit':\n",
        "            print(\"Chatbot: Goodbye!\")\n",
        "            break\n",
        "\n",
        "        response = respond(user_input)\n",
        "        print(\"Chatbot:\", response)\n",
        "\n",
        "if __name__ == \"__main__\":\n",
        "    chat()\n"
      ]
    }
  ]
}